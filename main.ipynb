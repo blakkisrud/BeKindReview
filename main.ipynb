{
 "cells": [
  {
   "cell_type": "markdown",
   "metadata": {},
   "source": [
    "# Review\n",
    "\n",
    "Main points:\n",
    "\n",
    "    * First, what to look for?\n",
    "    \n",
    "        1. Articles that calculate (/report) the red marrow dose in patients\n",
    "        2. Introduce or discuss a limit for RM dose\n",
    "        \n",
    "\n",
    "What have I done so far?\n",
    "\n",
    "    1. Made some simple literature searches in pubmed and scopus\n",
    "       \"marrow AND dosimetry\" yielded 1728 hits in scopus\n",
    "       \"marrow AND dosimetry AND SPECT\" gave 35 hits\n",
    "       \"marrow AND dosimetry AND PET! gave 75 hits\n",
    "       \n",
    "    2. Made also a \"wild goose chase\" search that was unstructured,\n",
    "       just jumped from article to article in a more tree-like fashion\n",
    "    \n",
    "    \n",
    "For july, it is now the 11. I have to formalize and do some \"real\" work. What about using graph theory? Idea is to start with Bel"
   ]
  },
  {
   "cell_type": "code",
   "execution_count": 6,
   "metadata": {
    "collapsed": false
   },
   "outputs": [],
   "source": [
    "# Using the scopus API with a pre-written python-wrapper to analyze further\n",
    "\n",
    "from scopus.scopus_api import ScopusAbstract\n",
    "\n",
    "ab = ScopusAbstract(\"2-s2.0-84961056233\")\n",
    "\n",
    "# It works! "
   ]
  },
  {
   "cell_type": "code",
   "execution_count": 9,
   "metadata": {
    "collapsed": true
   },
   "outputs": [],
   "source": [
    "# Now see if we can just retreive from a list of articles:references\n",
    "\n",
    "import pandas as pd\n",
    "import numpy as np\n",
    "import xlrd"
   ]
  },
  {
   "cell_type": "code",
   "execution_count": 26,
   "metadata": {
    "collapsed": false
   },
   "outputs": [
    {
     "name": "stdout",
     "output_type": "stream",
     "text": [
      "<xlrd.book.Book object at 0x000000000D9B94A8>\n",
      "1074\n",
      "This sheet has 243 references and 1074 columns\n"
     ]
    }
   ],
   "source": [
    "book = xlrd.open_workbook(\"benua_work_book.xlsx\")\n",
    "\n",
    "print book\n",
    "\n",
    "sh = book.sheet_by_index(0)\n",
    "\n",
    "print sh.ncols\n",
    "print \"This sheet has {0} references and {1} columns\".format(sh.nrows, sh.ncols)\n",
    "\n",
    "# Trying out row by col... Hmmm, lets put under versioning!\n",
    "\n"
   ]
  },
  {
   "cell_type": "code",
   "execution_count": null,
   "metadata": {
    "collapsed": true
   },
   "outputs": [],
   "source": []
  }
 ],
 "metadata": {
  "anaconda-cloud": {},
  "kernelspec": {
   "display_name": "Python [conda root]",
   "language": "python",
   "name": "conda-root-py"
  },
  "language_info": {
   "codemirror_mode": {
    "name": "ipython",
    "version": 2
   },
   "file_extension": ".py",
   "mimetype": "text/x-python",
   "name": "python",
   "nbconvert_exporter": "python",
   "pygments_lexer": "ipython2",
   "version": "2.7.12"
  }
 },
 "nbformat": 4,
 "nbformat_minor": 1
}
