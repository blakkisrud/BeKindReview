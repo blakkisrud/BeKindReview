{
 "cells": [
  {
   "cell_type": "markdown",
   "metadata": {},
   "source": [
    "# Review\n",
    "\n",
    "Main points:\n",
    "\n",
    "    * First, what to look for?\n",
    "    \n",
    "        1. Articles that calculate (/report) the red marrow dose in patients\n",
    "        2. Introduce or discuss a limit for RM dose\n",
    "        \n",
    "\n",
    "What have I done so far?\n",
    "\n",
    "    1. Made some simple literature searches in pubmed and scopus\n",
    "       \"marrow AND dosimetry\" yielded 1728 hits in scopus\n",
    "       \"marrow AND dosimetry AND SPECT\" gave 35 hits\n",
    "       \"marrow AND dosimetry AND PET! gave 75 hits\n",
    "       \n",
    "    2. Made also a \"wild goose chase\" search that was unstructured,\n",
    "       just jumped from article to article in a more tree-like fashion\n",
    "    \n",
    "    \n",
    "For july, it is now the 11. I have to formalize and do some \"real\" work. What about using graph theory? Idea is to start with Bel"
   ]
  },
  {
   "cell_type": "code",
   "execution_count": null,
   "metadata": {
    "collapsed": false
   },
   "outputs": [],
   "source": [
    "# Using the scopus API with a pre-written python-wrapper to analyze further\n",
    "\n",
    "from scopus.scopus_api import ScopusAbstract\n",
    "\n",
    "ab = ScopusAbstract(\"2-s2.0-84961056233\")\n",
    "\n",
    "# It works! "
   ]
  },
  {
   "cell_type": "code",
   "execution_count": 36,
   "metadata": {
    "collapsed": true
   },
   "outputs": [],
   "source": [
    "# Now see if we can just retreive from a list of articles:references\n",
    "\n",
    "import pandas as pd\n",
    "import numpy as np\n",
    "import xlrd\n",
    "import re"
   ]
  },
  {
   "cell_type": "code",
   "execution_count": 101,
   "metadata": {
    "collapsed": false
   },
   "outputs": [
    {
     "name": "stdout",
     "output_type": "stream",
     "text": [
      "<xlrd.book.Book object at 0x00000000133A3A90>\n",
      "1074\n",
      "This sheet has 243 references and 1074 columns\n",
      "1074\n",
      "['SarrutD.', 'BadelJ.-N.', 'HaltyA.', 'GarinG.', 'PerolD.', 'CassierP.', 'BlayJ.-Y.', 'KryzaD.', 'GiraudetA.-L.'] 3D absorbed dose distribution estimated by Monte Carlo simulation in radionuclide therapy with a monoclonal antibody targeting synovial sarcoma\n"
     ]
    }
   ],
   "source": [
    "book = xlrd.open_workbook(\"benua_work_book.xlsx\")\n",
    "\n",
    "print book\n",
    "\n",
    "sh = book.sheet_by_index(0)\n",
    "\n",
    "print sh.ncols\n",
    "print \"This sheet has {0} references and {1} columns\".format(sh.nrows, sh.ncols)\n",
    "\n",
    "# Check a single reference\n",
    "\n",
    "ref_num = 0\n",
    "\n",
    "single_reference_row = sh.row(ref_num+1)\n",
    "\n",
    "print len(single_reference_row)\n",
    "\n",
    "# Extra care for the first \"Mother-reference\"\n",
    "# First character before title is *alwas* a \" \" \"\n",
    "# First seven characters is a string descriptions\n",
    "\n",
    "literal_string =  str(single_reference_row[0])\n",
    "\n",
    "#print literal_string[0:8]\n",
    "athour_index_start = 8\n",
    "#print literal_string[athour_index_start::]\n",
    "title_start_index = literal_string.index('\"')\n",
    "title_end_index = literal_string.index('\"',title_start_index+3)\n",
    "\n",
    "author_string = literal_string[athour_index_start-1:title_start_index]\n",
    "title_string = literal_string[title_start_index+1:title_end_index] # Yields \n",
    "\n",
    "# Now make a list of authors...\n",
    "\n",
    "at_list = author_string.split(',')\n",
    "at_list = filter(None, at_list)\n",
    "\n",
    "for i in range(len(at_list)):\n",
    "    \n",
    "    at_list[i] = at_list[i].replace(\" \", \"\")\n",
    "    \n",
    "print at_list,title_string\n",
    "\n",
    "# Mother reference is now successfully parsed(!) Now with the child-references\n",
    "\n",
    "ref_num = 1\n",
    "single_reference_row = sh.row(ref_num+1)\n",
    "\n",
    "reference_string = str(single_reference_row[1])\n",
    "\n",
    "#print at_list\n",
    "\n",
    "#print reference_string\n",
    "character_split = '.,'\n",
    "\n",
    "sep_index = [m.start() for m in re.finditer('\\.,', reference_string)]\n",
    "year_index = [m.start() for m in re.finditer('\\d\\d\\d\\d', reference_string)]\n",
    "\n",
    "#print reference_string[sep_index[-1]+3:year_index[0]-2] # Seems to work...\n",
    "\n",
    "#print reference_string[sep_index[-1]::]"
   ]
  },
  {
   "cell_type": "code",
   "execution_count": 118,
   "metadata": {
    "collapsed": false
   },
   "outputs": [
    {
     "name": "stdout",
     "output_type": "stream",
     "text": [
      "www.scopus.com/inward/record.uri?eid=2-s2.0-85009999980&doi=10.1186%2fs40658-016-0172-1&partnerID=40&md5=3d9c1dd9012601ab0b7e82e039a47c72\",\"Fukukawa, C., Hanaoka, H., Nagayama, S., Tsunoda, T., Toguchida, J., Endo, K., Nakamura, Y., Katagiri, T., Radioimmunotherapy of human synovial sarcoma using a monoclonal antibody against fzd10 (2008) Cancer Sci, 99 (2), pp. 432-440. , COI: 1:CAS:528:DC%2BD1MXjs1ygu7w%3D, PID: 18271942 10.1111/j.1349-7006.2007.00701.x'\n",
      "('3D absorbed dose distribution estimated by Monte Carlo simulation in radionuclide therapy with a monoclonal antibody targeting synovial sarcoma', ['Sarrut D', 'Badel J.-N', 'Halty A', 'Garin G', 'Perol D', 'Cassier P', 'Blay J.-Y', 'Kryza D', 'Giraudet A.-L'])\n"
     ]
    }
   ],
   "source": [
    "def author_list_from_string(author_string):\n",
    "    \n",
    "    \"\"\"Simple utility function that translates a string containing\n",
    "       authors into a list of authors for better book-keeping\"\"\"\n",
    "    \n",
    "    at_list = author_string.split('.,')\n",
    "    at_list = filter(None, at_list)\n",
    "\n",
    "    for i in range(len(at_list)): # TODO: Could be iterated better\n",
    "    \n",
    "        at_elem = at_list[i]\n",
    "        \n",
    "        if at_elem[0] == ' ': # TODO: Could be made more elegant\n",
    "            \n",
    "            at_elem = at_elem[1::]\n",
    "            \n",
    "        if at_elem[-1] == ' ':\n",
    "            \n",
    "            at_elem = at_elem[0:-2]\n",
    "            \n",
    "        at_list[i] = at_elem\n",
    "        \n",
    "    return at_list\n",
    "    \n",
    "def reference_title_and_author(reference_string):\n",
    "    \n",
    "    \"\"\"Function takes a reference imported from Scopus and parses a \n",
    "       list of authors and the title\"\"\"\n",
    "    \n",
    "    character_split = '.,'\n",
    "\n",
    "    sep_index = [m.start() for m in re.finditer('\\.,', reference_string)]\n",
    "    year_index = [m.start() for m in re.finditer('\\d\\d\\d\\d', reference_string)]\n",
    "    \n",
    "    author_string = reference_string[8:sep_index[-1]]\n",
    "    \n",
    "    author_list = author_list_from_string(author_string)\n",
    "    \n",
    "    title = reference_string[sep_index[-1]+3:year_index[0]-2] # Seems to work...\n",
    "    \n",
    "    return title, author_list\n",
    "\n",
    "def parse_mother_reference(reference_string):\n",
    "    \n",
    "    \"\"\"Function to parse the \"mother\"-string. Meaning the first reference\n",
    "       when the data is presented in a \"article A cites article b, c,... \n",
    "       manner \"\"\"\n",
    "    \n",
    "    title_start_index = literal_string.index('\"')\n",
    "    title_end_index = literal_string.index('\"',title_start_index+3)\n",
    "\n",
    "    author_string = literal_string[athour_index_start-1:title_start_index]\n",
    "    title = literal_string[title_start_index+1:title_end_index]\n",
    "    \n",
    "    rest_of_reference = reference_string[title_end_index::]\n",
    "    \n",
    "    author_list = author_list_from_string(author_string)\n",
    "    \n",
    "    url_start_index = rest_of_reference.index(\"www.scopus.com\")\n",
    "    \n",
    "    print rest_of_reference[url_start_index::]\n",
    "    \n",
    "    \n",
    "    \n",
    "    \n",
    "    \n",
    "    return title, author_list\n",
    "\n",
    "ref_num = 0\n",
    "\n",
    "single_reference_row = sh.row(ref_num+1)\n",
    "reference_string = str(single_reference_row[0])\n",
    "\n",
    "#print reference_string\n",
    "\n",
    "print parse_mother_reference(reference_string)\n",
    "    "
   ]
  }
 ],
 "metadata": {
  "anaconda-cloud": {},
  "kernelspec": {
   "display_name": "Python [conda root]",
   "language": "python",
   "name": "conda-root-py"
  },
  "language_info": {
   "codemirror_mode": {
    "name": "ipython",
    "version": 2
   },
   "file_extension": ".py",
   "mimetype": "text/x-python",
   "name": "python",
   "nbconvert_exporter": "python",
   "pygments_lexer": "ipython2",
   "version": "2.7.12"
  }
 },
 "nbformat": 4,
 "nbformat_minor": 1
}
